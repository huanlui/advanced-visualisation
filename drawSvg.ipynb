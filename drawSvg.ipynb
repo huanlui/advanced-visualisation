{
 "cells": [
  {
   "cell_type": "code",
   "execution_count": 2,
   "metadata": {},
   "outputs": [],
   "source": [
    "import drawSvg as draw"
   ]
  },
  {
   "cell_type": "code",
   "execution_count": 4,
   "metadata": {},
   "outputs": [],
   "source": [
    "d = draw.Drawing(200,200)"
   ]
  },
  {
   "cell_type": "code",
   "execution_count": 8,
   "metadata": {},
   "outputs": [],
   "source": [
    "d.append(draw.Line(0,0,50,100, stroke=\"black\"))"
   ]
  },
  {
   "cell_type": "code",
   "execution_count": 9,
   "metadata": {},
   "outputs": [],
   "source": [
    "d.append(draw.Rectangle(10,0,50,100, stroke=\"black\", fill='red'))"
   ]
  },
  {
   "cell_type": "code",
   "execution_count": 10,
   "metadata": {},
   "outputs": [
    {
     "data": {
      "image/svg+xml": [
       "<?xml version=\"1.0\" encoding=\"UTF-8\"?>\n",
       "<svg xmlns=\"http://www.w3.org/2000/svg\" xmlns:xlink=\"http://www.w3.org/1999/xlink\"\n",
       "     width=\"200\" height=\"200\" viewBox=\"0 -200 200 200\">\n",
       "<defs>\n",
       "</defs>\n",
       "<path d=\"M0,0 L50,-100\" />\n",
       "<path d=\"M0,0 L50,-100\" stroke=\"black\" />\n",
       "<path d=\"M0,0 L50,-100\" stroke=\"black\" fill=\"red\" />\n",
       "<rect x=\"10\" y=\"-100\" width=\"50\" height=\"100\" stroke=\"black\" fill=\"red\" />\n",
       "</svg>"
      ],
      "text/plain": [
       "<drawSvg.drawing.Drawing at 0x118cc9310>"
      ]
     },
     "execution_count": 10,
     "metadata": {},
     "output_type": "execute_result"
    }
   ],
   "source": [
    "d"
   ]
  },
  {
   "cell_type": "code",
   "execution_count": 11,
   "metadata": {},
   "outputs": [
    {
     "data": {
      "text/plain": [
       "'<?xml version=\"1.0\" encoding=\"UTF-8\"?>\\n<svg xmlns=\"http://www.w3.org/2000/svg\" xmlns:xlink=\"http://www.w3.org/1999/xlink\"\\n     width=\"200\" height=\"200\" viewBox=\"0 -200 200 200\">\\n<defs>\\n</defs>\\n<path d=\"M0,0 L50,-100\" />\\n<path d=\"M0,0 L50,-100\" stroke=\"black\" />\\n<path d=\"M0,0 L50,-100\" stroke=\"black\" fill=\"red\" />\\n<rect x=\"10\" y=\"-100\" width=\"50\" height=\"100\" stroke=\"black\" fill=\"red\" />\\n</svg>'"
      ]
     },
     "execution_count": 11,
     "metadata": {},
     "output_type": "execute_result"
    }
   ],
   "source": [
    "d.asSvg()"
   ]
  },
  {
   "cell_type": "markdown",
   "metadata": {},
   "source": [
    "## Ahora, a partir de datos "
   ]
  },
  {
   "cell_type": "code",
   "execution_count": 27,
   "metadata": {},
   "outputs": [],
   "source": [
    "data = [\n",
    "  { \"followers\": \"100k-500k\", \"value\": 12500 },\n",
    "  { \"followers\": \"500k-1m\", \"value\": 25000 },\n",
    "  { \"followers\": \"1m-3m\", \"value\": 125000 },\n",
    "  { \"followers\": \"3m-7m\", \"value\": 187500 },\n",
    "  { \"followers\": \"over 7m\", \"value\": 300000 }\n",
    "]"
   ]
  },
  {
   "cell_type": "code",
   "execution_count": 37,
   "metadata": {},
   "outputs": [],
   "source": [
    "d = draw.Drawing(500,200)\n",
    "for (index,record) in enumerate(data):\n",
    "    x=20\n",
    "    y=index * (200 / len(data))  \n",
    "    width=record[\"value\"] * (500 / 300000)\n",
    "    height=20\n",
    "    color='red'\n",
    "    d.append(draw.Rectangle(x,y,width,height,fill=color))"
   ]
  },
  {
   "cell_type": "code",
   "execution_count": 38,
   "metadata": {},
   "outputs": [
    {
     "data": {
      "image/svg+xml": [
       "<?xml version=\"1.0\" encoding=\"UTF-8\"?>\n",
       "<svg xmlns=\"http://www.w3.org/2000/svg\" xmlns:xlink=\"http://www.w3.org/1999/xlink\"\n",
       "     width=\"500\" height=\"200\" viewBox=\"0 -200 500 200\">\n",
       "<defs>\n",
       "</defs>\n",
       "<rect x=\"20\" y=\"-20.0\" width=\"20.833333333333336\" height=\"20\" fill=\"red\" />\n",
       "<rect x=\"20\" y=\"-60.0\" width=\"41.66666666666667\" height=\"20\" fill=\"red\" />\n",
       "<rect x=\"20\" y=\"-100.0\" width=\"208.33333333333334\" height=\"20\" fill=\"red\" />\n",
       "<rect x=\"20\" y=\"-140.0\" width=\"312.5\" height=\"20\" fill=\"red\" />\n",
       "<rect x=\"20\" y=\"-180.0\" width=\"500.00000000000006\" height=\"20\" fill=\"red\" />\n",
       "</svg>"
      ],
      "text/plain": [
       "<drawSvg.drawing.Drawing at 0x121cc00d0>"
      ]
     },
     "execution_count": 38,
     "metadata": {},
     "output_type": "execute_result"
    }
   ],
   "source": [
    "d"
   ]
  },
  {
   "cell_type": "code",
   "execution_count": 39,
   "metadata": {},
   "outputs": [
    {
     "data": {
      "text/plain": [
       "'<?xml version=\"1.0\" encoding=\"UTF-8\"?>\\n<svg xmlns=\"http://www.w3.org/2000/svg\" xmlns:xlink=\"http://www.w3.org/1999/xlink\"\\n     width=\"500\" height=\"200\" viewBox=\"0 -200 500 200\">\\n<defs>\\n</defs>\\n<rect x=\"20\" y=\"-20.0\" width=\"20.833333333333336\" height=\"20\" fill=\"red\" />\\n<rect x=\"20\" y=\"-60.0\" width=\"41.66666666666667\" height=\"20\" fill=\"red\" />\\n<rect x=\"20\" y=\"-100.0\" width=\"208.33333333333334\" height=\"20\" fill=\"red\" />\\n<rect x=\"20\" y=\"-140.0\" width=\"312.5\" height=\"20\" fill=\"red\" />\\n<rect x=\"20\" y=\"-180.0\" width=\"500.00000000000006\" height=\"20\" fill=\"red\" />\\n</svg>'"
      ]
     },
     "execution_count": 39,
     "metadata": {},
     "output_type": "execute_result"
    }
   ],
   "source": [
    "d.asSvg()"
   ]
  },
  {
   "cell_type": "markdown",
   "metadata": {},
   "source": [
    "**Para ver el equivalente en js, ver [este Codepen](https://codepen.io/huanlui/pen/YzPKEaM)**"
   ]
  },
  {
   "cell_type": "markdown",
   "metadata": {},
   "source": [
    "**Muy interesante [esta página](https://observablehq.com/@d3) del creador de d3. Tiene lo equivalente a _notebooks_ con D3 y en él aparecen visualizaciones complejas y que las puedes usar si cambias los datos en el código**"
   ]
  },
  {
   "cell_type": "code",
   "execution_count": null,
   "metadata": {},
   "outputs": [],
   "source": []
  }
 ],
 "metadata": {
  "kernelspec": {
   "display_name": "Python 3",
   "language": "python",
   "name": "python3"
  },
  "language_info": {
   "codemirror_mode": {
    "name": "ipython",
    "version": 3
   },
   "file_extension": ".py",
   "mimetype": "text/x-python",
   "name": "python",
   "nbconvert_exporter": "python",
   "pygments_lexer": "ipython3",
   "version": "3.7.4"
  },
  "toc": {
   "base_numbering": 1,
   "nav_menu": {},
   "number_sections": true,
   "sideBar": true,
   "skip_h1_title": false,
   "title_cell": "Table of Contents",
   "title_sidebar": "Contents",
   "toc_cell": false,
   "toc_position": {},
   "toc_section_display": true,
   "toc_window_display": false
  }
 },
 "nbformat": 4,
 "nbformat_minor": 2
}
